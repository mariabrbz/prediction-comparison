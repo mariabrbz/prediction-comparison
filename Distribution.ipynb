{
 "cells": [
  {
   "cell_type": "markdown",
   "metadata": {},
   "source": [
    "## Comparaison des distributions de deux ensembles de données"
   ]
  },
  {
   "cell_type": "markdown",
   "metadata": {},
   "source": [
    "### 1. Modèle mathématique"
   ]
  },
  {
   "cell_type": "markdown",
   "metadata": {},
   "source": [
    "$\\quad$ Nous analyserons et comparerons deux échantillons de population, $Y_{test}$ et $Y_{live}$, qui sont des ensembles de prédiction dans un modèle de classification binaire. Soit $ p_ {test} $ et $ p_ {live} $ les proportions respectives de $1$ dans les ensembles de données. Nous nous intéressons à l'hypothèse nulle de ce modèle, c'est-à-dire $ H_0: p_1 = p_2 $, qui signifierait que les distributions sont similaires et donc que le modèle fournit un résultat acceptable. Soit $ n, m $ les tailles de $ Y_ {test} $ et $ Y_ {live} $ respectivement (comme représenté ci-dessous):\n",
    "\n",
    "$$Y_{test} = [\\, y_1^t,\\, y_2^t, \\, ..., \\, y_n^t \\,]$$ \n",
    "\n",
    "\n",
    "$$Y_{live} = [\\, y_1^l,\\, y_2^l, \\, ..., \\, y_m^l \\,]$$ \n",
    "\n",
    "\n",
    "$\\quad$ Ensuite, soit $ \\overline {y ^ t_n} $ et $ \\overline {y ^ l_m} $ les proportions d'échantillons de $1$. À des fins de normalisation, et en supposant $ H_0 $, nous obtenons l'estimation suivante:\n",
    "\n",
    "\n",
    "$$\\overline{y^ty^l}_{n+m} = \\frac{y_1^t + y_2^t + ... + y_n^t + y_1^l + y_2^l + ... + y_m^l}{n + m} = \\frac{n\\overline{y^t_n} + m\\overline{y^l_m}}{n + m}$$\n",
    "\n",
    "\n",
    "$\\quad$ De plus, nous utilisons la statistique de test $ t_ {n, m}:$\n",
    "\n",
    "\n",
    "$$t_{n, m} = \\frac{1}{\\sqrt{\\frac{1}{n} + \\frac{1}{m} }} \\times \\frac{\\overline{y^t_n} - \\overline{y^l_m}}{\\sqrt{\\overline{y^ty^l}_{n+m} (1 - \\overline{y^ty^l}_{n+m})} }$$\n",
    "\n",
    "\n",
    "\n",
    "$\\quad$ Nous calculons enfin la p-value de l'hypothèse et en tirons des conclusions."
   ]
  },
  {
   "cell_type": "markdown",
   "metadata": {},
   "source": [
    "### 2. Implémentation"
   ]
  },
  {
   "cell_type": "code",
   "execution_count": 3,
   "metadata": {},
   "outputs": [],
   "source": [
    "import math\n",
    "import numpy as np\n",
    "from statistics import mean \n",
    "from scipy import stats"
   ]
  },
  {
   "cell_type": "code",
   "execution_count": 4,
   "metadata": {},
   "outputs": [],
   "source": [
    "# mathematical model described above\n",
    "def set_comparison(Y_test, Y_live):\n",
    "    n = len(Y_test)\n",
    "    m = len(Y_live)\n",
    "    \n",
    "    y_test_bar = mean(Y_test)\n",
    "    y_live_bar = mean(Y_live)\n",
    "    \n",
    "    y_bar = (sum(Y_test) + sum(Y_live)) / (n + m)   # the pooled sampled proportion\n",
    "    \n",
    "    t = (1 / math.sqrt(1 / n + 1 / m)) * ((y_test_bar - y_live_bar) / math.sqrt(y_bar * (1 - y_bar)))\n",
    "    \n",
    "    p_value = stats.t.sf(np.abs(t), n + m - 1) * 2\n",
    "    \n",
    "    return t, p_value"
   ]
  },
  {
   "cell_type": "markdown",
   "metadata": {},
   "source": [
    "### 3. Tester"
   ]
  },
  {
   "cell_type": "markdown",
   "metadata": {},
   "source": [
    "Nous testons la méthode avec deux échantillons $A, B$. $A$ est un échantillon de taille $130$ avec $26$ instances de $1$, tandis que $B$ a une taille de $96$ et $15$ instances de $1$. Nous nous attendons à ce que la statistique t soit $\\approx 0,85$ et la valeur P $\\approx 0,4 $."
   ]
  },
  {
   "cell_type": "code",
   "execution_count": 5,
   "metadata": {},
   "outputs": [
    {
     "name": "stdout",
     "output_type": "stream",
     "text": [
      "A: [0, 0, 0, 0, 0, 0, 0, 0, 0, 0, 0, 0, 0, 0, 0, 0, 0, 0, 0, 0, 0, 0, 0, 0, 0, 0, 0, 0, 0, 0, 0, 0, 0, 0, 0, 0, 0, 0, 0, 0, 0, 0, 0, 0, 0, 0, 0, 0, 0, 0, 0, 0, 0, 0, 0, 0, 0, 0, 0, 0, 0, 0, 0, 0, 0, 0, 0, 0, 0, 0, 0, 0, 0, 0, 0, 0, 0, 0, 0, 0, 0, 0, 0, 0, 0, 0, 0, 0, 0, 0, 0, 0, 0, 0, 0, 0, 0, 0, 0, 0, 0, 0, 0, 0, 1, 1, 1, 1, 1, 1, 1, 1, 1, 1, 1, 1, 1, 1, 1, 1, 1, 1, 1, 1, 1, 1, 1, 1, 1, 1]\n",
      "\n",
      "B: [0, 0, 0, 0, 0, 0, 0, 0, 0, 0, 0, 0, 0, 0, 0, 0, 0, 0, 0, 0, 0, 0, 0, 0, 0, 0, 0, 0, 0, 0, 0, 0, 0, 0, 0, 0, 0, 0, 0, 0, 0, 0, 0, 0, 0, 0, 0, 0, 0, 0, 0, 0, 0, 0, 0, 0, 0, 0, 0, 0, 0, 0, 0, 0, 0, 0, 0, 0, 0, 0, 0, 0, 0, 0, 0, 0, 0, 0, 0, 0, 0, 1, 1, 1, 1, 1, 1, 1, 1, 1, 1, 1, 1, 1, 1, 1]\n",
      "\n",
      "t-statistic: 0.8436489630415805\n",
      "P-value: 0.39976161994585024\n"
     ]
    }
   ],
   "source": [
    "A = [0 for i in range(104)]\n",
    "A += [1 for i in range(26)]\n",
    "B = [0 for i in range(81)]\n",
    "B += [1 for i in range(15)]\n",
    "\n",
    "print(\"A: \" + str(A) + \"\\n\")\n",
    "print(\"B: \" + str(B) + \"\\n\")\n",
    "\n",
    "test1 = set_comparison(A, B)\n",
    "print(\"t-statistic: \" + str(test1[0]))\n",
    "print(\"P-value: \" + str(test1[1]))"
   ]
  },
  {
   "cell_type": "markdown",
   "metadata": {},
   "source": [
    "Un autre test peut être fait en utilisant les données d'une régression logistique que j'ai implémentée dans un projet (https://github.com/mariabrbz/neural-networks-deep-learning/blob/main/logistic_regression.ipynb). \n",
    "<img src=\"test2.PNG\">"
   ]
  },
  {
   "cell_type": "markdown",
   "metadata": {},
   "source": [
    "### 3. Conclusions"
   ]
  },
  {
   "cell_type": "markdown",
   "metadata": {},
   "source": [
    "La valeur P est un moyen de mesurer la force d'une hypothèse (dans notre cas, $ H_0 $). Dans les statistiques, si la valeur P est supérieure à $ 5\\% $, nous n'avons pas réussi à réfuter $ H_0 $. Dans le cadre d'un modèle de classification binaire, si la valeur P est supérieure à un seuil choisi (par exemple $ 5\\% $), nous pouvons conclure que la prédiction en direct est acceptable."
   ]
  }
 ],
 "metadata": {
  "kernelspec": {
   "display_name": "Python 3.8.1 32-bit",
   "language": "python",
   "name": "python38132bit36513ba402c947d4b80bcb337861f801"
  },
  "language_info": {
   "codemirror_mode": {
    "name": "ipython",
    "version": 3
   },
   "file_extension": ".py",
   "mimetype": "text/x-python",
   "name": "python",
   "nbconvert_exporter": "python",
   "pygments_lexer": "ipython3",
   "version": "3.8.1"
  }
 },
 "nbformat": 4,
 "nbformat_minor": 2
}
